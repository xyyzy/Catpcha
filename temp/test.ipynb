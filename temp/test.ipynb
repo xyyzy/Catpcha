{
 "cells": [
  {
   "cell_type": "code",
   "execution_count": 1,
   "metadata": {
    "collapsed": true,
    "pycharm": {
     "is_executing": false
    }
   },
   "outputs": [
    {
     "name": "stderr",
     "text": [
      "Using TensorFlow backend.\n"
     ],
     "output_type": "stream"
    }
   ],
   "source": [
    "import numpy as np\n",
    "import tensorflow as tf\n",
    "from keras.metrics import categorical_accuracy"
   ]
  },
  {
   "cell_type": "code",
   "execution_count": 2,
   "outputs": [],
   "source": [
    "import keras.backend.tensorflow_backend as K\n",
    "def my_acc(y_true, y_pred):\n",
    "    out = categorical_accuracy(y_true=trur_lab, y_pred=pred_lab)\n",
    "    return K.min(out, axis=-1)"
   ],
   "metadata": {
    "collapsed": false,
    "pycharm": {
     "name": "#%%\n",
     "is_executing": false
    }
   }
  },
  {
   "cell_type": "code",
   "execution_count": 3,
   "outputs": [
    {
     "name": "stdout",
     "text": [
      "[[1. 1. 1.]\n [1. 1. 0.]]\n[1. 0.]\n"
     ],
     "output_type": "stream"
    }
   ],
   "source": [
    "trur_lab = np.array([[[0, 0, 1],\n",
    "                     [1, 0, 0],\n",
    "                     [0, 1, 0]],\n",
    "                     \n",
    "                     [[1, 0, 0],\n",
    "                     [1, 0, 0],\n",
    "                     [0, 1, 0]]])\n",
    "\n",
    "pred_lab = np.array([[[0, 0, 0.9],\n",
    "                     [0.9, 0, 0],\n",
    "                     [0, 0.9, 0]],\n",
    "                     \n",
    "                     [[0.9, 0, 0],\n",
    "                     [0.9, 0, 0],\n",
    "                     [0, 0.2, 0.91]]])\n",
    "\n",
    "out1 = categorical_accuracy(y_true=trur_lab, y_pred=pred_lab)\n",
    "out2 = my_acc(y_true=trur_lab, y_pred=pred_lab)\n",
    "with tf.Session() as sess:\n",
    "    print(sess.run(out1))\n",
    "    print(sess.run(out2))\n",
    "\n"
   ],
   "metadata": {
    "collapsed": false,
    "pycharm": {
     "name": "#%%\n",
     "is_executing": false
    }
   }
  },
  {
   "cell_type": "code",
   "execution_count": 3,
   "outputs": [],
   "source": [
    "\n"
   ],
   "metadata": {
    "collapsed": false,
    "pycharm": {
     "name": "#%%\n",
     "is_executing": false
    }
   }
  }
 ],
 "metadata": {
  "kernelspec": {
   "display_name": "Python 3",
   "language": "python",
   "name": "python3"
  },
  "language_info": {
   "codemirror_mode": {
    "name": "ipython",
    "version": 2
   },
   "file_extension": ".py",
   "mimetype": "text/x-python",
   "name": "python",
   "nbconvert_exporter": "python",
   "pygments_lexer": "ipython2",
   "version": "2.7.6"
  },
  "pycharm": {
   "stem_cell": {
    "cell_type": "raw",
    "source": [],
    "metadata": {
     "collapsed": false
    }
   }
  }
 },
 "nbformat": 4,
 "nbformat_minor": 0
}